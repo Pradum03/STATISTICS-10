{
 "cells": [
  {
   "cell_type": "markdown",
   "id": "ef6d5610-717f-4037-8150-9dc390a68d3c",
   "metadata": {},
   "source": [
    "ASSIGNMENT:STATISTICS-10"
   ]
  },
  {
   "cell_type": "markdown",
   "id": "75528e1f-de77-4341-8e7f-2ef4dba1e0f1",
   "metadata": {},
   "source": [
    "1.  Write a Python function that takes in two arrays of data and calculates the F-value for a variance ratio \n",
    "test. The function should return the F-value and the corresponding p-value for the test."
   ]
  },
  {
   "cell_type": "code",
   "execution_count": 1,
   "id": "b2c82e75-909e-44c0-bf50-dca813122b32",
   "metadata": {},
   "outputs": [],
   "source": [
    "import numpy as np\n",
    "from scipy.stats import f\n",
    "\n",
    "def variance_ratio_test(data1, data2):\n",
    "    n1 = len(data1)\n",
    "    n2 = len(data2)\n",
    "    df1 = n1 - 1\n",
    "    df2 = n2 - 1\n",
    "    var1 = np.var(data1, ddof=1)\n",
    "    var2 = np.var(data2, ddof=1)\n",
    "    f_value = var1 / var2\n",
    "    p_value = f.cdf(f_value, df1, df2)\n",
    "    return f_value, p_value\n"
   ]
  },
  {
   "cell_type": "code",
   "execution_count": 2,
   "id": "ce877182-3084-4f10-a77b-db0015308dd2",
   "metadata": {},
   "outputs": [
    {
     "name": "stdout",
     "output_type": "stream",
     "text": [
      "F-value: 1.0\n",
      "p-value: 0.5\n"
     ]
    }
   ],
   "source": [
    "data1 = [1, 2, 3, 4, 5]\n",
    "data2 = [6, 7, 8, 9, 10]\n",
    "f_value, p_value = variance_ratio_test(data1, data2)\n",
    "print(\"F-value:\", f_value)\n",
    "print(\"p-value:\", p_value)\n"
   ]
  },
  {
   "cell_type": "markdown",
   "id": "1894ea6a-6a21-408f-9636-2c59e1e2c524",
   "metadata": {},
   "source": [
    "2.  Given a significance level of 0.05 and the degrees of freedom for the numerator and denominator of an \n",
    "F-distribution, write a Python function that returns the critical F-value for a two-tailed test."
   ]
  },
  {
   "cell_type": "code",
   "execution_count": 3,
   "id": "49210138-47d3-401a-98e0-0ac1c997c9bf",
   "metadata": {},
   "outputs": [],
   "source": [
    "from scipy.stats import f\n",
    "\n",
    "def critical_f(num_df, denom_df, alpha=0.05):\n",
    "    \"\"\"\n",
    "    Calculates the critical F-value for a two-tailed test with a given\n",
    "    significance level (default is 0.05) and degrees of freedom for the \n",
    "    numerator and denominator of an F-distribution.\n",
    "    \n",
    "    Args:\n",
    "    - num_df (int): degrees of freedom for numerator\n",
    "    - denom_df (int): degrees of freedom for denominator\n",
    "    - alpha (float): significance level (default is 0.05)\n",
    "    \n",
    "    Returns:\n",
    "    - crit_f (float): critical F-value for the given significance level\n",
    "    \"\"\"\n",
    "    crit_f = f.isf(alpha/2, num_df, denom_df)\n",
    "    return crit_f\n"
   ]
  },
  {
   "cell_type": "code",
   "execution_count": 4,
   "id": "feebb414-9f3f-46db-aa73-a03fa9b41032",
   "metadata": {},
   "outputs": [
    {
     "data": {
      "text/plain": [
       "4.290932366996311"
      ]
     },
     "execution_count": 4,
     "metadata": {},
     "output_type": "execute_result"
    }
   ],
   "source": [
    "critical_f(2, 25, 0.05)\n"
   ]
  },
  {
   "cell_type": "markdown",
   "id": "c22da662-d96d-4ff4-9a6e-f7030c9b8d2c",
   "metadata": {},
   "source": [
    "3. Write a Python program that generates random samples from two normal distributions with known \n",
    "variances and uses an F-test to determine if the variances are equal. The program should output the F-value, degrees of freedom, and p-value.\n"
   ]
  },
  {
   "cell_type": "code",
   "execution_count": 1,
   "id": "6fd7962b-6159-4b43-9fd6-d9c218f65575",
   "metadata": {},
   "outputs": [
    {
     "name": "stdout",
     "output_type": "stream",
     "text": [
      "F-value: 0.9716509749039276\n",
      "Degrees of freedom: 29 , 39\n",
      "P-value: 0.5259884019372651\n"
     ]
    }
   ],
   "source": [
    "import numpy as np\n",
    "from scipy.stats import f\n",
    "\n",
    "# Set the parameters\n",
    "mean1 = 0\n",
    "mean2 = 2\n",
    "var1 = 1\n",
    "var2 = 1.5\n",
    "n1 = 30\n",
    "n2 = 40\n",
    "\n",
    "# Generate the samples\n",
    "x1 = np.random.normal(mean1, np.sqrt(var1), n1)\n",
    "x2 = np.random.normal(mean2, np.sqrt(var2), n2)\n",
    "\n",
    "# Compute the F-test\n",
    "F = np.var(x1, ddof=1) / np.var(x2, ddof=1)\n",
    "df1 = n1 - 1\n",
    "df2 = n2 - 1\n",
    "p_value = 1 - f.cdf(F, df1, df2)\n",
    "\n",
    "# Output the results\n",
    "print(\"F-value:\", F)\n",
    "print(\"Degrees of freedom:\", df1, \",\", df2)\n",
    "print(\"P-value:\", p_value)\n"
   ]
  },
  {
   "cell_type": "markdown",
   "id": "ace5df1d-84af-4e2a-94ba-3f4e2562f27a",
   "metadata": {},
   "source": [
    "4. The variances of two populations are known to be 10 and 15. A sample of 12 observations is taken from \n",
    "each population. Conduct an F-test at the 5% significance level to determine if the variances are \n",
    "significantly different"
   ]
  },
  {
   "cell_type": "markdown",
   "id": "6070200f-411a-4d12-8793-c8fffaec69ad",
   "metadata": {},
   "source": [
    "To conduct an F-test to determine if the variances of two populations are significantly different, we need to set up the null and alternative hypotheses:\n",
    "\n",
    "Null hypothesis: The variances of the two populations are equal.\n",
    "Alternative hypothesis: The variances of the two populations are significantly different.\n",
    "We can use an F-test to test these hypotheses. The F-test statistic is given by:\n",
    "\n",
    "F = s1^2 / s2^2\n",
    "\n",
    "where s1^2 and s2^2 are the sample variances of the two populations. Under the null hypothesis of equal variances, the F-test statistic follows an F-distribution with degrees of freedom (df1, df2) = (n1 - 1, n2 - 1).\n",
    "\n",
    "At the 5% significance level, we reject the null hypothesis if the F-test statistic is greater than the critical value of the F-distribution with degrees of freedom (df1, df2) = (n1 - 1, n2 - 1) and significance level of 0.05.\n",
    "\n",
    "Now let's apply this to the problem at hand. We know that the variances of the two populations are 10 and 15, and we have a sample of 12 observations from each population."
   ]
  },
  {
   "cell_type": "code",
   "execution_count": 8,
   "id": "623cceeb-b088-466e-a9e1-dec38727e51f",
   "metadata": {},
   "outputs": [
    {
     "name": "stdout",
     "output_type": "stream",
     "text": [
      "F value:  0.6666666666666666\n",
      "Critical value: 3.473699051085809\n",
      "The variances are not significantly different.\n"
     ]
    }
   ],
   "source": [
    "import scipy.stats as stats\n",
    "\n",
    "var1 = 10\n",
    "var2 = 15\n",
    "n1 = 12\n",
    "n2 = 12\n",
    "alpha = 0.05\n",
    "\n",
    "# Calculate the F-test statistic\n",
    "F = var1 / var2\n",
    "print(\"F value: \",F)\n",
    "\n",
    "# Calculate the critical value\n",
    "df1 = n1 - 1\n",
    "df2 = n2 - 1\n",
    "critical_value = stats.f.ppf(1 - alpha/2, df1, df2)\n",
    "print(\"Critical value:\", critical_value)\n",
    "# Compare F-test statistic with critical value and print result\n",
    "if F > critical_value:\n",
    "    print(\"The variances are significantly different.\")\n",
    "else:\n",
    "    print(\"The variances are not significantly different.\")\n"
   ]
  },
  {
   "cell_type": "markdown",
   "id": "fb587df0-2b6e-48e7-8396-a38dcc9f320a",
   "metadata": {},
   "source": [
    "5. A manufacturer claims that the variance of the diameter of a certain product is 0.005. A sample of 25 \n",
    "products is taken, and the sample variance is found to be 0.006. Conduct an F-test at the 1% significance \n",
    "level to determine if the claim is justified"
   ]
  },
  {
   "cell_type": "code",
   "execution_count": 11,
   "id": "ddd29339-8242-404c-ac1a-61278bb2e7df",
   "metadata": {},
   "outputs": [
    {
     "name": "stdout",
     "output_type": "stream",
     "text": [
      "F value:  1.2\n",
      "The manufacturer's claim is justified at the 1% significance level.\n",
      "Critical value: nan\n"
     ]
    }
   ],
   "source": [
    "import scipy.stats as stats\n",
    "\n",
    "var_claimed = 0.005\n",
    "var_sample = 0.006\n",
    "n = 25\n",
    "alpha = 0.01\n",
    "\n",
    "# Calculate the F-test statistic\n",
    "F = var_sample / var_claimed\n",
    "print(\"F value: \",F)\n",
    "\n",
    "# Calculate the critical value\n",
    "df1 = n - 1\n",
    "df2 = float(\"inf\")  # Since the claimed variance has a single degree of freedom\n",
    "critical_value = stats.f.ppf(1 - alpha, df1, df2)\n",
    "\n",
    "# Compare F-test statistic with critical value and print result\n",
    "if F > critical_value:\n",
    "    print(\"The manufacturer's claim is not justified at the 1% significance level.\")\n",
    "else:\n",
    "    print(\"The manufacturer's claim is justified at the 1% significance level.\")\n",
    "\n",
    "# Print critical value\n",
    "print(\"Critical value:\", critical_value)\n"
   ]
  },
  {
   "cell_type": "markdown",
   "id": "0064a519-7ebe-492a-a3d9-291f10e702ab",
   "metadata": {},
   "source": [
    "6.  Write a Python function that takes in the degrees of freedom for the numerator and denominator of an \n",
    "F-distribution and calculates the mean and variance of the distribution. The function should return the \n",
    "mean and variance as a tuple"
   ]
  },
  {
   "cell_type": "code",
   "execution_count": 12,
   "id": "113bcbbd-cd04-48af-a797-3645418a3afa",
   "metadata": {},
   "outputs": [],
   "source": [
    "import math\n",
    "\n",
    "def f_distribution_mean_and_variance(df1, df2):\n",
    "    if df1 <= 0 or df2 <= 0:\n",
    "        raise ValueError(\"Degrees of freedom must be positive\")\n",
    "    \n",
    "    mean = df2 / (df2 - 2)\n",
    "    variance = (2 * df2 ** 2 * (df1 + df2 - 2)) / (df1 * (df2 - 2) ** 2 * (df2 - 4))\n",
    "    \n",
    "    return (mean, variance)\n"
   ]
  },
  {
   "cell_type": "markdown",
   "id": "64a29958-5115-47c5-98c9-57c4f4cb0f2f",
   "metadata": {},
   "source": [
    "The function takes in two arguments: df1 and df2, which represent the degrees of freedom for the numerator and denominator of an F-distribution, respectively. The function first checks that both degrees of freedom are positive, and raises a ValueError if either one is not.\n",
    "\n",
    "The mean and variance of the F-distribution are then calculated using the following formulas:\n",
    "\n",
    "Mean: df2 / (df2 - 2)\n",
    "Variance: (2 * df2 ** 2 * (df1 + df2 - 2)) / (df1 * (df2 - 2) ** 2 * (df2 - 4))\n",
    "The function returns the mean and variance as a tuple. You can call this function with the appropriate values of df1 and df2 to get the mean and variance of the F-distribution."
   ]
  },
  {
   "cell_type": "code",
   "execution_count": 14,
   "id": "d43bc6ce-fa34-4191-a3de-4c6b06656843",
   "metadata": {},
   "outputs": [
    {
     "data": {
      "text/plain": [
       "(1.3333333333333333, 1.9555555555555555)"
      ]
     },
     "execution_count": 14,
     "metadata": {},
     "output_type": "execute_result"
    }
   ],
   "source": [
    "f_distribution_mean_and_variance(5,8)"
   ]
  },
  {
   "cell_type": "markdown",
   "id": "52519bbb-fb2d-4974-9f16-214102e7d35a",
   "metadata": {},
   "source": [
    "7. A random sample of 10 measurements is taken from a normal population with unknown variance. The \n",
    "sample variance is found to be 25. Another random sample of 15 measurements is taken from another \n",
    "normal population with unknown variance, and the sample variance is found to be 20. Conduct an F-test \n",
    "at the 10% significance level to determine if the variances are significantly different"
   ]
  },
  {
   "cell_type": "code",
   "execution_count": 15,
   "id": "5ccea852-56d5-4a41-8b8b-7d41d9e43ba8",
   "metadata": {},
   "outputs": [
    {
     "name": "stdout",
     "output_type": "stream",
     "text": [
      "Fvalue:  1.25\n",
      "There is not enough evidence to suggest that the variances are significantly different at the 10% significance level.\n",
      "Critical value: 2.6457907352338195\n"
     ]
    }
   ],
   "source": [
    "import scipy.stats as stats\n",
    "\n",
    "n1 = 10\n",
    "n2 = 15\n",
    "var1 = 25\n",
    "var2 = 20\n",
    "alpha = 0.1\n",
    "\n",
    "# Calculate the F-test statistic\n",
    "F = var1 / var2\n",
    "\n",
    "print(\"Fvalue: \",F)\n",
    "\n",
    "# Calculate the degrees of freedom\n",
    "df1 = n1 - 1\n",
    "df2 = n2 - 1\n",
    "\n",
    "# Calculate the critical value\n",
    "critical_value = stats.f.ppf(1 - alpha/2, df1, df2)\n",
    "\n",
    "# Compare F-test statistic with critical value and print result\n",
    "if F < 1/critical_value or F > critical_value:\n",
    "    print(\"The variances are significantly different at the 10% significance level.\")\n",
    "else:\n",
    "    print(\"There is not enough evidence to suggest that the variances are significantly different at the 10% significance level.\")\n",
    "\n",
    "# Print critical value\n",
    "print(\"Critical value:\", critical_value)\n"
   ]
  },
  {
   "cell_type": "markdown",
   "id": "938600b2-fafc-46d8-b506-e32a81a9647a",
   "metadata": {},
   "source": [
    "8. The following data represent the waiting times in minutes at two different restaurants on a Saturday \n",
    "night: Restaurant A: 24, 25, 28, 23, 22, 20, 27; Restaurant B: 31, 33, 35, 30, 32, 36. Conduct an F-test at the 5% \n",
    "significance level to determine if the variances are significantly different"
   ]
  },
  {
   "cell_type": "code",
   "execution_count": 17,
   "id": "3e22ab6b-45fd-4719-be69-5a347ed75eb4",
   "metadata": {},
   "outputs": [
    {
     "name": "stdout",
     "output_type": "stream",
     "text": [
      "F-value: 1.496767651159843\n",
      "There is not enough evidence to suggest that the variances are significantly different at the 5.0 % significance level.\n",
      "Critical value: 6.977701858535566\n"
     ]
    }
   ],
   "source": [
    "import numpy as np\n",
    "import scipy.stats as stats\n",
    "\n",
    "data1 = np.array([24, 25, 28, 23, 22, 20, 27])\n",
    "data2 = np.array([31, 33, 35, 30, 32, 36])\n",
    "\n",
    "df1 = len(data1) - 1\n",
    "df2 = len(data2) - 1\n",
    "\n",
    "alpha = 0.05\n",
    "\n",
    "var1 = np.var(data1)\n",
    "var2 = np.var(data2)\n",
    "\n",
    "# Calculate the F-test statistic\n",
    "if var1 > var2:\n",
    "    F = var1 / var2\n",
    "else:\n",
    "    F = var2 / var1\n",
    "\n",
    "print(\"F-value:\", F)\n",
    "\n",
    "# Calculate the critical value\n",
    "critical_value = stats.f.ppf(1 - alpha / 2, df1, df2)\n",
    "\n",
    "# Compare F-test statistic with critical value and print result\n",
    "if F < 1 / critical_value or F > critical_value:\n",
    "    print(\"The variances are significantly different at the\", alpha * 100, \"% significance level.\")\n",
    "else:\n",
    "    print(\"There is not enough evidence to suggest that the variances are significantly different at the\", alpha * 100, \"% significance level.\")\n",
    "\n",
    "# Print critical value\n",
    "print(\"Critical value:\", critical_value)\n",
    "\n",
    "\n"
   ]
  },
  {
   "cell_type": "markdown",
   "id": "21570bc4-ed90-4759-9591-25db229f7c38",
   "metadata": {},
   "source": [
    "9.  The following data represent the test scores of two groups of students: Group A: 80, 85, 90, 92, 87, 83; \n",
    "Group B: 75, 78, 82, 79, 81, 84. Conduct an F-test at the 1% significance level to determine if the variances \n",
    "are significantly different."
   ]
  },
  {
   "cell_type": "code",
   "execution_count": 19,
   "id": "a9692b40-e0c9-48cb-a7b3-e823fcb96ab1",
   "metadata": {},
   "outputs": [
    {
     "name": "stdout",
     "output_type": "stream",
     "text": [
      "F-value: 1.9442622950819677\n",
      "There is not enough evidence to suggest that the variances are significantly different at the 1.0 % significance level.\n",
      "Critical value: 14.939605459912224\n"
     ]
    }
   ],
   "source": [
    "import numpy as np\n",
    "import scipy.stats as stats\n",
    "\n",
    "data1 = np.array([80, 85, 90, 92, 87, 83])\n",
    "data2 = np.array([75, 78, 82, 79, 81, 84])\n",
    "\n",
    "df1 = len(data1) - 1\n",
    "df2 = len(data2) - 1\n",
    "\n",
    "alpha = 0.01\n",
    "\n",
    "var1 = np.var(data1)\n",
    "var2 = np.var(data2)\n",
    "\n",
    "# Calculate the F-test statistic\n",
    "if var1 > var2:\n",
    "    F = var1 / var2\n",
    "else:\n",
    "    F = var2 / var1\n",
    "\n",
    "print(\"F-value:\", F)\n",
    "\n",
    "# Calculate the critical value\n",
    "critical_value = stats.f.ppf(1 - alpha / 2, df1, df2)\n",
    "\n",
    "# Compare F-test statistic with critical value and print result\n",
    "if F < 1 / critical_value or F > critical_value:\n",
    "    print(\"The variances are significantly different at the\", alpha * 100, \"% significance level.\")\n",
    "else:\n",
    "    print(\"There is not enough evidence to suggest that the variances are significantly different at the\", alpha * 100, \"% significance level.\")\n",
    "\n",
    "# Print critical value\n",
    "print(\"Critical value:\", critical_value)\n"
   ]
  },
  {
   "cell_type": "code",
   "execution_count": null,
   "id": "76ac7509-03e3-4015-b0e5-de3c0fe2ac5c",
   "metadata": {},
   "outputs": [],
   "source": []
  }
 ],
 "metadata": {
  "kernelspec": {
   "display_name": "Python 3 (ipykernel)",
   "language": "python",
   "name": "python3"
  },
  "language_info": {
   "codemirror_mode": {
    "name": "ipython",
    "version": 3
   },
   "file_extension": ".py",
   "mimetype": "text/x-python",
   "name": "python",
   "nbconvert_exporter": "python",
   "pygments_lexer": "ipython3",
   "version": "3.10.8"
  }
 },
 "nbformat": 4,
 "nbformat_minor": 5
}
